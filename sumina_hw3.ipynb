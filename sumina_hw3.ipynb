{
 "cells": [
  {
   "cell_type": "markdown",
   "metadata": {},
   "source": [
    "### Алгоритмы интеллектуальной обработки больших объемов данных\n",
    "## Домашнее задание №3 - Дерево решений\n"
   ]
  },
  {
   "cell_type": "markdown",
   "metadata": {},
   "source": [
    "**Общая информация**\n",
    "\n",
    "**Срок сдачи:** 08 декабря 2020, 08:30   \n",
    "**Штраф за опоздание:** -2 балла после 08:30 08 декабря, -4 балла после 08:30 15 декабря, -6 баллов после 08:30 22 декабря, -8 баллов после 08:30 29 декабря.\n",
    "\n",
    "При отправлении ДЗ указывайте фамилию в названии файла Присылать ДЗ необходимо в виде ссылки на свой github репозиторий на почту ml1.sphere@mail.ru с указанием темы в следующем формате:\n",
    "[ML0220, Задание 3] Фамилия Имя. \n",
    "\n",
    "\n",
    "Используйте данный Ipython Notebook при оформлении домашнего задания."
   ]
  },
  {
   "cell_type": "markdown",
   "metadata": {},
   "source": [
    "##  Реализуем дерево решений (3 балла)"
   ]
  },
  {
   "cell_type": "markdown",
   "metadata": {},
   "source": [
    "Допишите недостающие части дерева решений. Ваша реализация дерева должна работать по точности не хуже DecisionTreeClassifier из sklearn.\n",
    "Внимание: если Вас не устраивает предложенная структура хранения дерева, Вы без потери баллов можете сделать свой класс DecisionTreeClassifier, в котором сами полностью воспроизведете алгоритм дерева решений. Обязательно в нем иметь только функции fit, predict"
   ]
  },
  {
   "cell_type": "code",
   "execution_count": 59,
   "metadata": {},
   "outputs": [],
   "source": [
    "import matplotlib.pyplot as plt\n",
    "import seaborn as sns\n",
    "import numpy as np\n",
    "import pandas as pd\n",
    "\n",
    "from sklearn.datasets import load_wine\n",
    "from sklearn.ensemble import RandomForestClassifier\n",
    "from sklearn.metrics import accuracy_score, f1_score\n",
    "from sklearn.model_selection import KFold, train_test_split\n",
    "from sklearn.model_selection import GridSearchCV, RandomizedSearchCV, cross_val_score\n",
    "from sklearn.tree import DecisionTreeClassifier\n",
    "from sklearn.base import BaseEstimator, ClassifierMixin"
   ]
  },
  {
   "cell_type": "code",
   "execution_count": 136,
   "metadata": {},
   "outputs": [],
   "source": [
    "class MyDecisionTreeClassifier:\n",
    "    NON_LEAF_TYPE = 0\n",
    "    LEAF_TYPE = 1\n",
    "\n",
    "    def __init__(self, min_samples_split=2, max_depth=5, criterion='gini'):\n",
    "        \"\"\"\n",
    "        criterion -- критерий расщепления. необходимо релизовать три:\n",
    "        Ошибка классификации, Индекс Джини, Энтропийный критерий\n",
    "        max_depth -- максимальная глубина дерева\n",
    "        min_samples_split -- минимальное число объектов в листе, чтобы сделать новый сплит\n",
    "        \"\"\"\n",
    "        self.min_samples_split = min_samples_split\n",
    "        self.max_depth = max_depth\n",
    "        self.num_class = -1\n",
    "        # Для последнего задания\n",
    "        self.feature_importances_ = None\n",
    "        self.criterion = criterion\n",
    "        # Структура, которая описывает дерево\n",
    "        # Представляет словарь, где для  node_id (айдишник узла дерева) храним\n",
    "        # (тип_узла, айдишник признака сплита, порог сплита) если тип NON_LEAF_TYPE\n",
    "        # (тип_узла, предсказание класса, вероятность класса) если тип LEAF_TYPE\n",
    "        # Подразумевается, что у каждого node_id в дереве слева \n",
    "        # узел с айди 2 * node_id + 1, а справа 2 * node_id + 2\n",
    "        self.tree = dict()\n",
    "\n",
    "    def __div_samples(self, x, y, feature_id, threshold):\n",
    "        \"\"\"\n",
    "        Разделяет объекты на 2 множества\n",
    "        x -- матрица объектов\n",
    "        y -- вектор ответов\n",
    "        feature_id -- айдишник признака, по которому делаем сплит\n",
    "        threshold -- порог, по которому делаем сплит\n",
    "        \"\"\"\n",
    "        left_mask = x[:, feature_id] > threshold\n",
    "        right_mask = ~left_mask\n",
    "        return x[left_mask], x[right_mask], y[left_mask], y[right_mask]\n",
    "\n",
    "    def __gini(self, left, right):\n",
    "        return 2 * left * right / ((left + right) ** 2)\n",
    "\n",
    "    def __entropy(self, left, right):\n",
    "        log_1 = np.abs(left + right + 0.000001)\n",
    "        log_2 = np.abs(left + 0.000001)\n",
    "        log_3 = np.abs(right + 0.000001)\n",
    "        return np.log2(log_1) - (left * np.log2(log_2) + right * np.log2(log_3)) / (left + right)\n",
    "\n",
    "    def __misclass(self, left, right):\n",
    "        return 1 - np.maximum(left / (left + right), right / (left + right))\n",
    "\n",
    "    def __find_threshold(self, x, y):\n",
    "        \"\"\"\n",
    "        Находим оптимальный признак и порог для сплита\n",
    "        Здесь используемые разные impurity в зависимости от self.criterion\n",
    "        \"\"\"   \n",
    "        x_sorted = np.sort(x.T, axis = 1)\n",
    "        y_sorted = (y[x.T.argsort(axis = 1)] == y[0]).astype(int)\n",
    "        \n",
    "        occurs = np.bincount(y_sorted[0])[1]\n",
    "        left_sum = np.cumsum(y_sorted, axis = 1)\n",
    "        right_sum = occurs - left_sum\n",
    "        length = y_sorted.shape[1]\n",
    "        \n",
    "        left = np.arange(length) + np.zeros(y_sorted.shape[0]).reshape(-1, 1)\n",
    "        left[:, 0] += 1\n",
    "        right = length - left\n",
    "        \n",
    "        if self.criterion == 'entropy':\n",
    "            func = self.__entropy\n",
    "        elif self.criterion == 'misclass':\n",
    "            func = self.__misclass\n",
    "        else:\n",
    "            func = self.__gini\n",
    "        \n",
    "        impurity = func(left, right)\n",
    "        impurity -= (left * func(left_sum, left - left_sum) + right * func(right_sum, right - right_sum))  / (left + right)\n",
    "        feature, thresh = np.unravel_index(np.argmax(impurity), impurity.shape)\n",
    "        \n",
    "        return feature, x_sorted[feature, thresh], impurity[feature, thresh]\n",
    "\n",
    "    def __fit_node(self, x, y, node_id, depth):\n",
    "        \"\"\"\n",
    "        Делаем новый узел в дереве\n",
    "        Решаем, терминальный он или нет\n",
    "        Если нет, то строим левый узел  с айди 2 * node_id + 1\n",
    "        И правый узел с  айди 2 * node_id + 2\n",
    "        \"\"\"\n",
    "        if (depth == self.max_depth) or (y.size < self.min_samples_split):\n",
    "            y_uniq, count = np.unique(y, return_counts = True)\n",
    "            self.tree[node_id] = (self.__class__.LEAF_TYPE, y_uniq[count.argmax()], count / y.size)\n",
    "        else:\n",
    "            feature, thresh, criterion = self.__find_threshold(x, y)\n",
    "            x_left, x_right, y_left, y_right = self.__div_samples(x, y, feature, thresh)\n",
    "\n",
    "            if y_left.size > 0 and y_right.size > 0:\n",
    "                self.tree[node_id] = (self.__class__.NON_LEAF_TYPE, feature, thresh)\n",
    "                self.important_features[feature] += y.size * criterion / x.shape[0]\n",
    "                self.__fit_node(x_left, y_left, 2 * node_id + 1, depth + 1)\n",
    "                self.__fit_node(x_right, y_right, 2 * node_id + 2, depth + 1)\n",
    "            else:\n",
    "                y_uniq, count = np.unique(y, return_counts = True)\n",
    "                self.tree[node_id] = (self.__class__.LEAF_TYPE, y_uniq[count.argmax()], count / y.size)\n",
    "\n",
    "    def fit(self, x, y):\n",
    "        \"\"\"\n",
    "        Рекурсивно строим дерево решений\n",
    "        Начинаем с корня node_id 0\n",
    "        \"\"\"\n",
    "        self.num_class = np.unique(y).size\n",
    "        self.important_features = np.zeros(x.shape[1])\n",
    "        self.__fit_node(x, y, 0, 0) \n",
    "\n",
    "    def __predict_class(self, x, node_id):\n",
    "        \"\"\"\n",
    "        Рекурсивно обходим дерево по всем узлам,\n",
    "        пока не дойдем до терминального\n",
    "        \"\"\"\n",
    "        node = self.tree[node_id]\n",
    "        if node[0] == self.__class__.NON_LEAF_TYPE:\n",
    "            _, feature_id, threshold = node\n",
    "            if x[feature_id] > threshold:\n",
    "                return self.__predict_class(x, 2 * node_id + 1)\n",
    "            else:\n",
    "                return self.__predict_class(x, 2 * node_id + 2)\n",
    "        else:\n",
    "            return node[1]\n",
    "        \n",
    "    def predict(self, X):\n",
    "        \"\"\"\n",
    "        Вызывает predict для всех объектов из матрицы X\n",
    "        \"\"\"\n",
    "        return np.array([self.__predict_class(x, 0) for x in X])\n",
    "    \n",
    "    def fit_predict(self, x_train, y_train, predicted_x):\n",
    "        self.fit(x_train, y_train)\n",
    "        return self.predict(predicted_x)\n",
    "    \n",
    "    def get_feature_importance(self):\n",
    "        \"\"\"\n",
    "        Возвращает важность признаков\n",
    "        \"\"\"\n",
    "        return self.important_features"
   ]
  },
  {
   "cell_type": "code",
   "execution_count": 64,
   "metadata": {},
   "outputs": [],
   "source": [
    "my_clf = MyDecisionTreeClassifier(min_samples_split=2)\n",
    "clf = DecisionTreeClassifier(min_samples_split=2)"
   ]
  },
  {
   "cell_type": "code",
   "execution_count": 65,
   "metadata": {},
   "outputs": [],
   "source": [
    "wine = load_wine()\n",
    "X_train, X_test, y_train, y_test = train_test_split(wine.data, wine.target, test_size=0.1, stratify=wine.target)"
   ]
  },
  {
   "cell_type": "code",
   "execution_count": 66,
   "metadata": {},
   "outputs": [
    {
     "name": "stdout",
     "output_type": "stream",
     "text": [
      "Sklearn classifier:  0.9444444444444444\n",
      "My classifier:  0.9444444444444444\n"
     ]
    }
   ],
   "source": [
    "clf.fit(X_train, y_train)\n",
    "my_clf.fit(X_train, y_train)\n",
    "print(\"Sklearn classifier: \", accuracy_score(y_pred=clf.predict(X_test), y_true=y_test))\n",
    "print(\"My classifier: \", accuracy_score(y_pred=my_clf.predict(X_test), y_true=y_test))"
   ]
  },
  {
   "cell_type": "markdown",
   "metadata": {},
   "source": [
    "## Ускоряем дерево решений (2 балла)\n",
    "Добиться скорости работы на fit не медленнее чем в 10 раз sklearn на данных wine. \n",
    "Для этого используем numpy."
   ]
  },
  {
   "cell_type": "code",
   "execution_count": 67,
   "metadata": {
    "scrolled": true
   },
   "outputs": [
    {
     "name": "stdout",
     "output_type": "stream",
     "text": [
      "Wall time: 2 ms\n"
     ]
    },
    {
     "data": {
      "text/plain": [
       "DecisionTreeClassifier()"
      ]
     },
     "execution_count": 67,
     "metadata": {},
     "output_type": "execute_result"
    }
   ],
   "source": [
    "%time clf.fit(X_train, y_train)"
   ]
  },
  {
   "cell_type": "code",
   "execution_count": 68,
   "metadata": {},
   "outputs": [
    {
     "name": "stdout",
     "output_type": "stream",
     "text": [
      "Wall time: 9.96 ms\n"
     ]
    }
   ],
   "source": [
    "%time my_clf.fit(X_train, y_train)"
   ]
  },
  {
   "cell_type": "markdown",
   "metadata": {},
   "source": [
    "## Боевое применение (3 балла)\n",
    "\n",
    "На практике Вы познакомились с датасетом Speed Dating Data. В нем каждая пара в быстрых свиданиях характеризуется определенным набором признаков. Задача -- предсказать, произойдет ли матч пары (колонка match). \n",
    "\n",
    "Пример работы с датасетом можете найти в практике пункт 2\n",
    "https://github.com/VVVikulin/ml1.sphere/blob/master/2019-09/lecture_06/pract-trees.ipynb\n",
    "\n",
    "Данные и описания колонок лежат тут\n",
    "https://cloud.mail.ru/public/8nHV/p6J7wY1y1/speed-dating-experiment/"
   ]
  },
  {
   "cell_type": "markdown",
   "metadata": {},
   "source": [
    "Скачайте датасет, обработайте данные, как показано на семинаре или своим собственным способом. Обучите дерево классифкации. В качестве таргета возьмите колонку 'match'. Постарайтесь хорошо обработать признаки, чтобы выбить максимальную точность. Если точность будет близка к случайному гаданию, задание не будет защитано. \n"
   ]
  },
  {
   "cell_type": "code",
   "execution_count": 176,
   "metadata": {},
   "outputs": [],
   "source": [
    "df = pd.read_csv('./Speed Dating Data.csv', encoding='latin1')"
   ]
  },
  {
   "cell_type": "code",
   "execution_count": 177,
   "metadata": {},
   "outputs": [
    {
     "data": {
      "text/plain": [
       "(8378, 195)"
      ]
     },
     "execution_count": 177,
     "metadata": {},
     "output_type": "execute_result"
    }
   ],
   "source": [
    "df.shape"
   ]
  },
  {
   "cell_type": "code",
   "execution_count": 178,
   "metadata": {},
   "outputs": [],
   "source": [
    "df = df.iloc[:, :97]\n",
    "\n",
    "df = df.drop(['id'], axis=1)\n",
    "df = df.drop(['idg'], axis=1)\n",
    "df = df.drop(['condtn'], axis=1)\n",
    "df = df.drop(['from'], axis = 1)\n",
    "df = df.drop(['wave'], axis = 1)\n",
    "df = df.drop(['position', 'positin1'], axis=1)\n",
    "df = df.drop(['order'], axis=1)\n",
    "df = df.drop(['partner'], axis=1)\n",
    "\n",
    "df = df.drop(['age_o', 'race_o', 'pf_o_att', 'pf_o_sin', 'pf_o_int',\n",
    "              'pf_o_fun', 'pf_o_amb', 'pf_o_sha',\n",
    "              'dec_o', 'attr_o', 'sinc_o', 'intel_o', 'fun_o',\n",
    "              'amb_o', 'shar_o', 'like_o', 'prob_o','met_o'], \n",
    "             axis=1)\n",
    "\n",
    "df = df.dropna(subset = ['age', 'imprelig', 'imprace', 'date'])\n",
    "df = df.drop(['field', 'undergra', 'career', 'expnum'], axis = 1)\n",
    "\n",
    "df.loc[:, 'field_cd'] = df.loc[:, 'field_cd'].fillna(18)\n",
    "\n",
    "df.loc[:, 'mn_sat'] = df.loc[:, 'mn_sat'].str.replace(',', '').astype(np.float)\n",
    "df['mn_sat'] = df['mn_sat'].fillna(0.0)\n",
    "\n",
    "df.loc[:, 'tuition'] = df.loc[:, 'tuition'].str.replace(',', '').astype(np.float)\n",
    "df['tuition'] = df['tuition'].fillna(0.0)\n",
    "\n",
    "df.loc[:, 'zipcode'] = df.loc[:, 'zipcode'].str.replace(',', '').astype(np.float)\n",
    "df.loc[:, 'income'] = df.loc[:, 'income'].str.replace(',', '').astype(np.float)\n",
    "\n",
    "df['income'] = df['income'].fillna(0.0)\n",
    "df['career_c'] = df['career_c'].fillna(0.0)\n",
    "\n",
    "df = df.drop(['sports','tvsports','exercise','dining',\n",
    "              'museums','art','hiking','gaming',\n",
    "              'clubbing','reading','tv','theater','movies',\n",
    "              'concerts','music','shopping','yoga'], axis = 1)\n"
   ]
  },
  {
   "cell_type": "code",
   "execution_count": 179,
   "metadata": {},
   "outputs": [],
   "source": [
    "for i in [1, 2]:\n",
    "    feat = ['attr{}_1'.format(i), 'sinc{}_1'.format(i), \n",
    "            'intel{}_1'.format(i), 'fun{}_1'.format(i), \n",
    "            'amb{}_1'.format(i), 'shar{}_1'.format(i)]\n",
    "    df.loc[:, 'totalsum'] = df.loc[:, feat].sum(axis = 1)\n",
    "    df.loc[:, feat] = \\\n",
    "    (df.loc[:, feat].T / df.loc[:, 'totalsum'].T).T * 100\n",
    "\n",
    "df = df.drop(['totalsum'], axis = 1)\n",
    "df = df.dropna()"
   ]
  },
  {
   "cell_type": "code",
   "execution_count": 180,
   "metadata": {},
   "outputs": [],
   "source": [
    "for i in [4, 5]:\n",
    "    feat = ['attr{}_1'.format(i), 'sinc{}_1'.format(i), \n",
    "            'intel{}_1'.format(i), 'fun{}_1'.format(i), \n",
    "            'amb{}_1'.format(i), 'shar{}_1'.format(i)]\n",
    "    \n",
    "    if i != 4:\n",
    "        feat.remove('shar{}_1'.format(i))\n",
    "    \n",
    "    df = df.drop(feat, axis=1)"
   ]
  },
  {
   "cell_type": "code",
   "execution_count": 181,
   "metadata": {},
   "outputs": [],
   "source": [
    "df_male = df.query('gender == 1').drop_duplicates(subset=['iid', 'pid'])\\\n",
    "                                 .drop(['gender'], axis=1)\\\n",
    "                                 .dropna()\n",
    "df_female = df.query('gender == 0').drop_duplicates(subset=['iid'])\\\n",
    "                                   .drop(['gender', 'match', 'int_corr', 'samerace'], axis=1)\\\n",
    "                                   .dropna()\n",
    "        \n",
    "df_female.columns = df_female.columns + '_f'\n",
    "df_female = df_female.drop(['pid_f'], axis=1)\n",
    "df_pair = df_male.join(df_female.set_index('iid_f'), on='pid', how='inner')\n",
    "df_pair = df_pair.drop(['iid', 'pid'], axis=1)"
   ]
  },
  {
   "cell_type": "code",
   "execution_count": 183,
   "metadata": {},
   "outputs": [],
   "source": [
    "X = np.array(df_pair.drop(['match'], axis=1))\n",
    "y = np.array(df_pair['match'])\n",
    "feature_names = df_pair.drop(['match'], axis=1).columns[1:]"
   ]
  },
  {
   "cell_type": "code",
   "execution_count": 184,
   "metadata": {},
   "outputs": [
    {
     "data": {
      "text/html": [
       "<div>\n",
       "<style scoped>\n",
       "    .dataframe tbody tr th:only-of-type {\n",
       "        vertical-align: middle;\n",
       "    }\n",
       "\n",
       "    .dataframe tbody tr th {\n",
       "        vertical-align: top;\n",
       "    }\n",
       "\n",
       "    .dataframe thead th {\n",
       "        text-align: right;\n",
       "    }\n",
       "</style>\n",
       "<table border=\"1\" class=\"dataframe\">\n",
       "  <thead>\n",
       "    <tr style=\"text-align: right;\">\n",
       "      <th></th>\n",
       "      <th>round</th>\n",
       "      <th>int_corr</th>\n",
       "      <th>samerace</th>\n",
       "      <th>age</th>\n",
       "      <th>field_cd</th>\n",
       "      <th>mn_sat</th>\n",
       "      <th>tuition</th>\n",
       "      <th>race</th>\n",
       "      <th>imprace</th>\n",
       "      <th>imprelig</th>\n",
       "      <th>zipcode</th>\n",
       "      <th>income</th>\n",
       "      <th>goal</th>\n",
       "      <th>date</th>\n",
       "      <th>go_out</th>\n",
       "      <th>career_c</th>\n",
       "      <th>exphappy</th>\n",
       "      <th>attr1_1</th>\n",
       "      <th>sinc1_1</th>\n",
       "      <th>intel1_1</th>\n",
       "      <th>fun1_1</th>\n",
       "      <th>amb1_1</th>\n",
       "      <th>shar1_1</th>\n",
       "      <th>attr2_1</th>\n",
       "      <th>sinc2_1</th>\n",
       "      <th>intel2_1</th>\n",
       "      <th>fun2_1</th>\n",
       "      <th>amb2_1</th>\n",
       "      <th>shar2_1</th>\n",
       "      <th>attr3_1</th>\n",
       "      <th>sinc3_1</th>\n",
       "      <th>fun3_1</th>\n",
       "      <th>intel3_1</th>\n",
       "      <th>amb3_1</th>\n",
       "      <th>round_f</th>\n",
       "      <th>age_f</th>\n",
       "      <th>field_cd_f</th>\n",
       "      <th>mn_sat_f</th>\n",
       "      <th>tuition_f</th>\n",
       "      <th>race_f</th>\n",
       "      <th>imprace_f</th>\n",
       "      <th>imprelig_f</th>\n",
       "      <th>zipcode_f</th>\n",
       "      <th>income_f</th>\n",
       "      <th>goal_f</th>\n",
       "      <th>date_f</th>\n",
       "      <th>go_out_f</th>\n",
       "      <th>career_c_f</th>\n",
       "      <th>exphappy_f</th>\n",
       "      <th>attr1_1_f</th>\n",
       "      <th>sinc1_1_f</th>\n",
       "      <th>intel1_1_f</th>\n",
       "      <th>fun1_1_f</th>\n",
       "      <th>amb1_1_f</th>\n",
       "      <th>shar1_1_f</th>\n",
       "      <th>attr2_1_f</th>\n",
       "      <th>sinc2_1_f</th>\n",
       "      <th>intel2_1_f</th>\n",
       "      <th>fun2_1_f</th>\n",
       "      <th>amb2_1_f</th>\n",
       "      <th>shar2_1_f</th>\n",
       "      <th>attr3_1_f</th>\n",
       "      <th>sinc3_1_f</th>\n",
       "      <th>fun3_1_f</th>\n",
       "      <th>intel3_1_f</th>\n",
       "      <th>amb3_1_f</th>\n",
       "    </tr>\n",
       "  </thead>\n",
       "  <tbody>\n",
       "    <tr>\n",
       "      <td>3507</td>\n",
       "      <td>9</td>\n",
       "      <td>0.05</td>\n",
       "      <td>0</td>\n",
       "      <td>32.0</td>\n",
       "      <td>7.0</td>\n",
       "      <td>1430.0</td>\n",
       "      <td>26908.0</td>\n",
       "      <td>2.0</td>\n",
       "      <td>1.0</td>\n",
       "      <td>6.0</td>\n",
       "      <td>2173.0</td>\n",
       "      <td>0.0</td>\n",
       "      <td>4.0</td>\n",
       "      <td>5.0</td>\n",
       "      <td>2.0</td>\n",
       "      <td>1.0</td>\n",
       "      <td>2.0</td>\n",
       "      <td>18.0</td>\n",
       "      <td>10.0</td>\n",
       "      <td>30.0</td>\n",
       "      <td>10.0</td>\n",
       "      <td>10.0</td>\n",
       "      <td>22.0</td>\n",
       "      <td>25.0</td>\n",
       "      <td>11.0</td>\n",
       "      <td>11.0</td>\n",
       "      <td>18.0</td>\n",
       "      <td>20.0</td>\n",
       "      <td>15.0</td>\n",
       "      <td>5.0</td>\n",
       "      <td>7.0</td>\n",
       "      <td>6.0</td>\n",
       "      <td>8.0</td>\n",
       "      <td>7.0</td>\n",
       "      <td>9</td>\n",
       "      <td>22.0</td>\n",
       "      <td>3.0</td>\n",
       "      <td>1070.0</td>\n",
       "      <td>12696.0</td>\n",
       "      <td>6.0</td>\n",
       "      <td>1.0</td>\n",
       "      <td>5.0</td>\n",
       "      <td>23060.0</td>\n",
       "      <td>44346.0</td>\n",
       "      <td>3.0</td>\n",
       "      <td>7.0</td>\n",
       "      <td>3.0</td>\n",
       "      <td>2.0</td>\n",
       "      <td>5.0</td>\n",
       "      <td>20.0</td>\n",
       "      <td>20.0</td>\n",
       "      <td>20.0</td>\n",
       "      <td>10.0</td>\n",
       "      <td>10.0</td>\n",
       "      <td>20.0</td>\n",
       "      <td>75.0</td>\n",
       "      <td>1.0</td>\n",
       "      <td>1.0</td>\n",
       "      <td>3.0</td>\n",
       "      <td>10.0</td>\n",
       "      <td>10.0</td>\n",
       "      <td>7.0</td>\n",
       "      <td>7.0</td>\n",
       "      <td>8.0</td>\n",
       "      <td>8.0</td>\n",
       "      <td>10.0</td>\n",
       "    </tr>\n",
       "    <tr>\n",
       "      <td>3516</td>\n",
       "      <td>9</td>\n",
       "      <td>0.44</td>\n",
       "      <td>0</td>\n",
       "      <td>25.0</td>\n",
       "      <td>10.0</td>\n",
       "      <td>1140.0</td>\n",
       "      <td>9168.0</td>\n",
       "      <td>2.0</td>\n",
       "      <td>7.0</td>\n",
       "      <td>1.0</td>\n",
       "      <td>11234.0</td>\n",
       "      <td>41476.0</td>\n",
       "      <td>1.0</td>\n",
       "      <td>7.0</td>\n",
       "      <td>6.0</td>\n",
       "      <td>2.0</td>\n",
       "      <td>3.0</td>\n",
       "      <td>35.0</td>\n",
       "      <td>20.0</td>\n",
       "      <td>10.0</td>\n",
       "      <td>20.0</td>\n",
       "      <td>10.0</td>\n",
       "      <td>5.0</td>\n",
       "      <td>40.0</td>\n",
       "      <td>5.0</td>\n",
       "      <td>5.0</td>\n",
       "      <td>30.0</td>\n",
       "      <td>15.0</td>\n",
       "      <td>5.0</td>\n",
       "      <td>7.0</td>\n",
       "      <td>8.0</td>\n",
       "      <td>6.0</td>\n",
       "      <td>7.0</td>\n",
       "      <td>6.0</td>\n",
       "      <td>9</td>\n",
       "      <td>22.0</td>\n",
       "      <td>3.0</td>\n",
       "      <td>1070.0</td>\n",
       "      <td>12696.0</td>\n",
       "      <td>6.0</td>\n",
       "      <td>1.0</td>\n",
       "      <td>5.0</td>\n",
       "      <td>23060.0</td>\n",
       "      <td>44346.0</td>\n",
       "      <td>3.0</td>\n",
       "      <td>7.0</td>\n",
       "      <td>3.0</td>\n",
       "      <td>2.0</td>\n",
       "      <td>5.0</td>\n",
       "      <td>20.0</td>\n",
       "      <td>20.0</td>\n",
       "      <td>20.0</td>\n",
       "      <td>10.0</td>\n",
       "      <td>10.0</td>\n",
       "      <td>20.0</td>\n",
       "      <td>75.0</td>\n",
       "      <td>1.0</td>\n",
       "      <td>1.0</td>\n",
       "      <td>3.0</td>\n",
       "      <td>10.0</td>\n",
       "      <td>10.0</td>\n",
       "      <td>7.0</td>\n",
       "      <td>7.0</td>\n",
       "      <td>8.0</td>\n",
       "      <td>8.0</td>\n",
       "      <td>10.0</td>\n",
       "    </tr>\n",
       "    <tr>\n",
       "      <td>...</td>\n",
       "      <td>...</td>\n",
       "      <td>...</td>\n",
       "      <td>...</td>\n",
       "      <td>...</td>\n",
       "      <td>...</td>\n",
       "      <td>...</td>\n",
       "      <td>...</td>\n",
       "      <td>...</td>\n",
       "      <td>...</td>\n",
       "      <td>...</td>\n",
       "      <td>...</td>\n",
       "      <td>...</td>\n",
       "      <td>...</td>\n",
       "      <td>...</td>\n",
       "      <td>...</td>\n",
       "      <td>...</td>\n",
       "      <td>...</td>\n",
       "      <td>...</td>\n",
       "      <td>...</td>\n",
       "      <td>...</td>\n",
       "      <td>...</td>\n",
       "      <td>...</td>\n",
       "      <td>...</td>\n",
       "      <td>...</td>\n",
       "      <td>...</td>\n",
       "      <td>...</td>\n",
       "      <td>...</td>\n",
       "      <td>...</td>\n",
       "      <td>...</td>\n",
       "      <td>...</td>\n",
       "      <td>...</td>\n",
       "      <td>...</td>\n",
       "      <td>...</td>\n",
       "      <td>...</td>\n",
       "      <td>...</td>\n",
       "      <td>...</td>\n",
       "      <td>...</td>\n",
       "      <td>...</td>\n",
       "      <td>...</td>\n",
       "      <td>...</td>\n",
       "      <td>...</td>\n",
       "      <td>...</td>\n",
       "      <td>...</td>\n",
       "      <td>...</td>\n",
       "      <td>...</td>\n",
       "      <td>...</td>\n",
       "      <td>...</td>\n",
       "      <td>...</td>\n",
       "      <td>...</td>\n",
       "      <td>...</td>\n",
       "      <td>...</td>\n",
       "      <td>...</td>\n",
       "      <td>...</td>\n",
       "      <td>...</td>\n",
       "      <td>...</td>\n",
       "      <td>...</td>\n",
       "      <td>...</td>\n",
       "      <td>...</td>\n",
       "      <td>...</td>\n",
       "      <td>...</td>\n",
       "      <td>...</td>\n",
       "      <td>...</td>\n",
       "      <td>...</td>\n",
       "      <td>...</td>\n",
       "      <td>...</td>\n",
       "      <td>...</td>\n",
       "    </tr>\n",
       "    <tr>\n",
       "      <td>8355</td>\n",
       "      <td>22</td>\n",
       "      <td>-0.32</td>\n",
       "      <td>0</td>\n",
       "      <td>27.0</td>\n",
       "      <td>8.0</td>\n",
       "      <td>1400.0</td>\n",
       "      <td>26019.0</td>\n",
       "      <td>1.0</td>\n",
       "      <td>2.0</td>\n",
       "      <td>1.0</td>\n",
       "      <td>11570.0</td>\n",
       "      <td>55138.0</td>\n",
       "      <td>1.0</td>\n",
       "      <td>6.0</td>\n",
       "      <td>3.0</td>\n",
       "      <td>7.0</td>\n",
       "      <td>3.0</td>\n",
       "      <td>40.0</td>\n",
       "      <td>20.0</td>\n",
       "      <td>20.0</td>\n",
       "      <td>20.0</td>\n",
       "      <td>0.0</td>\n",
       "      <td>0.0</td>\n",
       "      <td>60.0</td>\n",
       "      <td>0.0</td>\n",
       "      <td>0.0</td>\n",
       "      <td>40.0</td>\n",
       "      <td>0.0</td>\n",
       "      <td>0.0</td>\n",
       "      <td>7.0</td>\n",
       "      <td>8.0</td>\n",
       "      <td>3.0</td>\n",
       "      <td>8.0</td>\n",
       "      <td>5.0</td>\n",
       "      <td>22</td>\n",
       "      <td>22.0</td>\n",
       "      <td>5.0</td>\n",
       "      <td>0.0</td>\n",
       "      <td>0.0</td>\n",
       "      <td>4.0</td>\n",
       "      <td>1.0</td>\n",
       "      <td>1.0</td>\n",
       "      <td>471001.0</td>\n",
       "      <td>0.0</td>\n",
       "      <td>2.0</td>\n",
       "      <td>7.0</td>\n",
       "      <td>3.0</td>\n",
       "      <td>10.0</td>\n",
       "      <td>8.0</td>\n",
       "      <td>20.0</td>\n",
       "      <td>20.0</td>\n",
       "      <td>10.0</td>\n",
       "      <td>15.0</td>\n",
       "      <td>5.0</td>\n",
       "      <td>30.0</td>\n",
       "      <td>40.0</td>\n",
       "      <td>10.0</td>\n",
       "      <td>10.0</td>\n",
       "      <td>10.0</td>\n",
       "      <td>10.0</td>\n",
       "      <td>20.0</td>\n",
       "      <td>3.0</td>\n",
       "      <td>9.0</td>\n",
       "      <td>9.0</td>\n",
       "      <td>9.0</td>\n",
       "      <td>7.0</td>\n",
       "    </tr>\n",
       "    <tr>\n",
       "      <td>8377</td>\n",
       "      <td>22</td>\n",
       "      <td>0.01</td>\n",
       "      <td>0</td>\n",
       "      <td>25.0</td>\n",
       "      <td>18.0</td>\n",
       "      <td>0.0</td>\n",
       "      <td>0.0</td>\n",
       "      <td>2.0</td>\n",
       "      <td>1.0</td>\n",
       "      <td>1.0</td>\n",
       "      <td>78110.0</td>\n",
       "      <td>0.0</td>\n",
       "      <td>1.0</td>\n",
       "      <td>2.0</td>\n",
       "      <td>1.0</td>\n",
       "      <td>15.0</td>\n",
       "      <td>10.0</td>\n",
       "      <td>70.0</td>\n",
       "      <td>0.0</td>\n",
       "      <td>15.0</td>\n",
       "      <td>15.0</td>\n",
       "      <td>0.0</td>\n",
       "      <td>0.0</td>\n",
       "      <td>50.0</td>\n",
       "      <td>0.0</td>\n",
       "      <td>0.0</td>\n",
       "      <td>30.0</td>\n",
       "      <td>0.0</td>\n",
       "      <td>20.0</td>\n",
       "      <td>8.0</td>\n",
       "      <td>7.0</td>\n",
       "      <td>6.0</td>\n",
       "      <td>7.0</td>\n",
       "      <td>7.0</td>\n",
       "      <td>22</td>\n",
       "      <td>22.0</td>\n",
       "      <td>5.0</td>\n",
       "      <td>0.0</td>\n",
       "      <td>0.0</td>\n",
       "      <td>4.0</td>\n",
       "      <td>1.0</td>\n",
       "      <td>1.0</td>\n",
       "      <td>471001.0</td>\n",
       "      <td>0.0</td>\n",
       "      <td>2.0</td>\n",
       "      <td>7.0</td>\n",
       "      <td>3.0</td>\n",
       "      <td>10.0</td>\n",
       "      <td>8.0</td>\n",
       "      <td>20.0</td>\n",
       "      <td>20.0</td>\n",
       "      <td>10.0</td>\n",
       "      <td>15.0</td>\n",
       "      <td>5.0</td>\n",
       "      <td>30.0</td>\n",
       "      <td>40.0</td>\n",
       "      <td>10.0</td>\n",
       "      <td>10.0</td>\n",
       "      <td>10.0</td>\n",
       "      <td>10.0</td>\n",
       "      <td>20.0</td>\n",
       "      <td>3.0</td>\n",
       "      <td>9.0</td>\n",
       "      <td>9.0</td>\n",
       "      <td>9.0</td>\n",
       "      <td>7.0</td>\n",
       "    </tr>\n",
       "  </tbody>\n",
       "</table>\n",
       "<p>1758 rows × 66 columns</p>\n",
       "</div>"
      ],
      "text/plain": [
       "      round  int_corr  samerace   age  field_cd  mn_sat  tuition  race  \\\n",
       "3507      9      0.05         0  32.0       7.0  1430.0  26908.0   2.0   \n",
       "3516      9      0.44         0  25.0      10.0  1140.0   9168.0   2.0   \n",
       "...     ...       ...       ...   ...       ...     ...      ...   ...   \n",
       "8355     22     -0.32         0  27.0       8.0  1400.0  26019.0   1.0   \n",
       "8377     22      0.01         0  25.0      18.0     0.0      0.0   2.0   \n",
       "\n",
       "      imprace  imprelig  zipcode   income  goal  date  go_out  career_c  \\\n",
       "3507      1.0       6.0   2173.0      0.0   4.0   5.0     2.0       1.0   \n",
       "3516      7.0       1.0  11234.0  41476.0   1.0   7.0     6.0       2.0   \n",
       "...       ...       ...      ...      ...   ...   ...     ...       ...   \n",
       "8355      2.0       1.0  11570.0  55138.0   1.0   6.0     3.0       7.0   \n",
       "8377      1.0       1.0  78110.0      0.0   1.0   2.0     1.0      15.0   \n",
       "\n",
       "      exphappy  attr1_1  sinc1_1  intel1_1  fun1_1  amb1_1  shar1_1  attr2_1  \\\n",
       "3507       2.0     18.0     10.0      30.0    10.0    10.0     22.0     25.0   \n",
       "3516       3.0     35.0     20.0      10.0    20.0    10.0      5.0     40.0   \n",
       "...        ...      ...      ...       ...     ...     ...      ...      ...   \n",
       "8355       3.0     40.0     20.0      20.0    20.0     0.0      0.0     60.0   \n",
       "8377      10.0     70.0      0.0      15.0    15.0     0.0      0.0     50.0   \n",
       "\n",
       "      sinc2_1  intel2_1  fun2_1  amb2_1  shar2_1  attr3_1  sinc3_1  fun3_1  \\\n",
       "3507     11.0      11.0    18.0    20.0     15.0      5.0      7.0     6.0   \n",
       "3516      5.0       5.0    30.0    15.0      5.0      7.0      8.0     6.0   \n",
       "...       ...       ...     ...     ...      ...      ...      ...     ...   \n",
       "8355      0.0       0.0    40.0     0.0      0.0      7.0      8.0     3.0   \n",
       "8377      0.0       0.0    30.0     0.0     20.0      8.0      7.0     6.0   \n",
       "\n",
       "      intel3_1  amb3_1  round_f  age_f  field_cd_f  mn_sat_f  tuition_f  \\\n",
       "3507       8.0     7.0        9   22.0         3.0    1070.0    12696.0   \n",
       "3516       7.0     6.0        9   22.0         3.0    1070.0    12696.0   \n",
       "...        ...     ...      ...    ...         ...       ...        ...   \n",
       "8355       8.0     5.0       22   22.0         5.0       0.0        0.0   \n",
       "8377       7.0     7.0       22   22.0         5.0       0.0        0.0   \n",
       "\n",
       "      race_f  imprace_f  imprelig_f  zipcode_f  income_f  goal_f  date_f  \\\n",
       "3507     6.0        1.0         5.0    23060.0   44346.0     3.0     7.0   \n",
       "3516     6.0        1.0         5.0    23060.0   44346.0     3.0     7.0   \n",
       "...      ...        ...         ...        ...       ...     ...     ...   \n",
       "8355     4.0        1.0         1.0   471001.0       0.0     2.0     7.0   \n",
       "8377     4.0        1.0         1.0   471001.0       0.0     2.0     7.0   \n",
       "\n",
       "      go_out_f  career_c_f  exphappy_f  attr1_1_f  sinc1_1_f  intel1_1_f  \\\n",
       "3507       3.0         2.0         5.0       20.0       20.0        20.0   \n",
       "3516       3.0         2.0         5.0       20.0       20.0        20.0   \n",
       "...        ...         ...         ...        ...        ...         ...   \n",
       "8355       3.0        10.0         8.0       20.0       20.0        10.0   \n",
       "8377       3.0        10.0         8.0       20.0       20.0        10.0   \n",
       "\n",
       "      fun1_1_f  amb1_1_f  shar1_1_f  attr2_1_f  sinc2_1_f  intel2_1_f  \\\n",
       "3507      10.0      10.0       20.0       75.0        1.0         1.0   \n",
       "3516      10.0      10.0       20.0       75.0        1.0         1.0   \n",
       "...        ...       ...        ...        ...        ...         ...   \n",
       "8355      15.0       5.0       30.0       40.0       10.0        10.0   \n",
       "8377      15.0       5.0       30.0       40.0       10.0        10.0   \n",
       "\n",
       "      fun2_1_f  amb2_1_f  shar2_1_f  attr3_1_f  sinc3_1_f  fun3_1_f  \\\n",
       "3507       3.0      10.0       10.0        7.0        7.0       8.0   \n",
       "3516       3.0      10.0       10.0        7.0        7.0       8.0   \n",
       "...        ...       ...        ...        ...        ...       ...   \n",
       "8355      10.0      10.0       20.0        3.0        9.0       9.0   \n",
       "8377      10.0      10.0       20.0        3.0        9.0       9.0   \n",
       "\n",
       "      intel3_1_f  amb3_1_f  \n",
       "3507         8.0      10.0  \n",
       "3516         8.0      10.0  \n",
       "...          ...       ...  \n",
       "8355         9.0       7.0  \n",
       "8377         9.0       7.0  \n",
       "\n",
       "[1758 rows x 66 columns]"
      ]
     },
     "execution_count": 184,
     "metadata": {},
     "output_type": "execute_result"
    }
   ],
   "source": [
    "pd.options.display.max_columns = 100\n",
    "pd.options.display.max_rows = 5\n",
    "df_pair.drop('match' , axis=1)"
   ]
  },
  {
   "cell_type": "markdown",
   "metadata": {},
   "source": [
    "Разбейте датасет на трейн и валидацию. Подберите на валидации оптимальный критерий  информативности. \n",
    "Постройте графики зависимости точности на валидации от глубины дерева, от минимального числа объектов для сплита. \n",
    "Какой максимальной точности удалось достигнуть?"
   ]
  },
  {
   "cell_type": "code",
   "execution_count": 185,
   "metadata": {},
   "outputs": [],
   "source": [
    "kf = KFold(n_splits = 5, shuffle = True)"
   ]
  },
  {
   "cell_type": "code",
   "execution_count": 186,
   "metadata": {},
   "outputs": [
    {
     "data": {
      "text/plain": [
       "{'divide': 'ignore', 'over': 'warn', 'under': 'ignore', 'invalid': 'ignore'}"
      ]
     },
     "execution_count": 186,
     "metadata": {},
     "output_type": "execute_result"
    }
   ],
   "source": [
    "np.seterr(divide='ignore', invalid='ignore')"
   ]
  },
  {
   "cell_type": "code",
   "execution_count": 190,
   "metadata": {},
   "outputs": [],
   "source": [
    "criterians = ['gini', 'entropy', 'misclass']\n",
    "depth_list = range(1, 10)\n",
    "min_samples_list = range(1, 20, 2)"
   ]
  },
  {
   "cell_type": "code",
   "execution_count": 191,
   "metadata": {},
   "outputs": [
    {
     "name": "stdout",
     "output_type": "stream",
     "text": [
      "{'criterion': 'gini', 'depth': 1, 'sample': 1}\n",
      "0.4576984412675328\n",
      "{'criterion': 'gini', 'depth': 1, 'sample': 7}\n",
      "0.45770671115487316\n",
      "{'criterion': 'gini', 'depth': 1, 'sample': 13}\n",
      "0.4577171981873123\n",
      "{'criterion': 'gini', 'depth': 1, 'sample': 15}\n",
      "0.45773859185203997\n",
      "{'criterion': 'gini', 'depth': 4, 'sample': 9}\n",
      "0.45774069738066103\n",
      "{'criterion': 'gini', 'depth': 5, 'sample': 1}\n",
      "0.4658351140040902\n",
      "{'criterion': 'gini', 'depth': 5, 'sample': 3}\n",
      "0.4748153475137052\n",
      "{'criterion': 'gini', 'depth': 5, 'sample': 5}\n",
      "0.49079920635556695\n",
      "{'criterion': 'gini', 'depth': 5, 'sample': 7}\n",
      "0.4978219002649066\n",
      "{'criterion': 'gini', 'depth': 5, 'sample': 17}\n",
      "0.5073606823915177\n",
      "{'criterion': 'gini', 'depth': 6, 'sample': 1}\n",
      "0.5097185662043702\n",
      "{'criterion': 'gini', 'depth': 6, 'sample': 3}\n",
      "0.5535589046579291\n",
      "{'criterion': 'gini', 'depth': 8, 'sample': 13}\n",
      "0.5598917360859332\n",
      "{'criterion': 'gini', 'depth': 9, 'sample': 11}\n",
      "0.5641856703785488\n",
      "{'criterion': 'gini', 'depth': 9, 'sample': 15}\n",
      "0.5687686389304659\n",
      "Best:  {'criterion': 'gini', 'depth': 9, 'sample': 15}\n",
      "0.5687686389304659\n"
     ]
    }
   ],
   "source": [
    "best_score = 0\n",
    "best_model = {}\n",
    "\n",
    "for crit in criterians:\n",
    "    for depth in depth_list:\n",
    "        for sample in min_samples_list:\n",
    "            clf = MyDecisionTreeClassifier(min_samples_split=sample, max_depth=depth, criterion=crit)\n",
    "            indices = kf.split(X)\n",
    "            scores = []\n",
    "            for train_ind, test_ind in indices:\n",
    "                clf.fit(X[train_ind], y[train_ind])\n",
    "                scores.append(f1_score(y_true=y[test_ind], y_pred=clf.predict(X[test_ind]), average='macro'))\n",
    "            score = np.mean(np.array(scores))\n",
    "            \n",
    "            if score > best_score:\n",
    "                best_model['criterion'] = crit\n",
    "                best_model['depth'] = depth\n",
    "                best_model['sample'] = sample\n",
    "                best_score = score\n",
    "                print(best_model)\n",
    "                print(score)\n",
    "                \n",
    "print(\"Best: \", best_model)\n",
    "print(best_score)"
   ]
  },
  {
   "cell_type": "code",
   "execution_count": 195,
   "metadata": {},
   "outputs": [
    {
     "name": "stdout",
     "output_type": "stream",
     "text": [
      "0.8181818181818182\n",
      "0.5279919544083138\n"
     ]
    }
   ],
   "source": [
    "X_train, X_test, y_train, y_test = train_test_split(X, y, test_size=0.1)\n",
    "\n",
    "clf = MyDecisionTreeClassifier(criterion=best_model['criterion'],\n",
    "                               min_samples_split=best_model['sample'],\n",
    "                               max_depth=best_model['depth'])\n",
    "clf.fit(X_train, y_train)\n",
    "print(accuracy_score(y_true=y_test, y_pred=clf.predict(X_test)))\n",
    "print(f1_score(y_true=y_test, y_pred=clf.predict(X_test), average='macro'))"
   ]
  },
  {
   "cell_type": "code",
   "execution_count": 196,
   "metadata": {},
   "outputs": [],
   "source": [
    "depth_score_list = []\n",
    "\n",
    "for depth in depth_list:\n",
    "    clf = MyDecisionTreeClassifier(min_samples_split=best_model['sample'], max_depth=depth, criterion=best_model['criterion'])\n",
    "    indices = kf.split(X)\n",
    "    scores = []\n",
    "    for train_ind, test_ind in indices:\n",
    "        clf.fit(X[train_ind], y[train_ind])\n",
    "        scores.append(accuracy_score(y_pred=clf.predict(X[test_ind]), y_true=y[test_ind]))\n",
    "    depth_score_list.append(np.mean(np.array(scores)))"
   ]
  },
  {
   "cell_type": "code",
   "execution_count": 197,
   "metadata": {},
   "outputs": [],
   "source": [
    "sample_score_list = []\n",
    "\n",
    "for samples in min_samples_list:\n",
    "    clf = MyDecisionTreeClassifier(min_samples_split=samples, max_depth=best_model['depth'], criterion=best_model['criterion'])\n",
    "    indices = kf.split(X)\n",
    "    scores = []\n",
    "    for train_ind, test_ind in indices:\n",
    "        clf.fit(X[train_ind], y[train_ind])\n",
    "        scores.append(accuracy_score(y_pred=clf.predict(X[test_ind]), y_true=y[test_ind]))\n",
    "    sample_score_list.append(np.mean(np.array(scores)))"
   ]
  },
  {
   "cell_type": "code",
   "execution_count": 198,
   "metadata": {},
   "outputs": [
    {
     "data": {
      "text/plain": [
       "[<matplotlib.lines.Line2D at 0x21001a81148>]"
      ]
     },
     "execution_count": 198,
     "metadata": {},
     "output_type": "execute_result"
    },
    {
     "data": {
      "image/png": "[encoded data removed]",
      "text/plain": [
       "<Figure size 1440x360 with 2 Axes>"
      ]
     },
     "metadata": {
      "needs_background": "light"
     },
     "output_type": "display_data"
    }
   ],
   "source": [
    "fig, ax = plt.subplots(1, 2, figsize=(20, 5))\n",
    "fig.suptitle(\"Зависимость точности от глубины дерева и минимального числа объектов для сплита\", fontsize=20)\n",
    "\n",
    "ax[0].set_xlabel('Глубина дерева', fontsize=16)\n",
    "ax[0].set_ylabel('Accuracy', fontsize=14)\n",
    "ax[0].plot(depth_list, depth_score_list)\n",
    "\n",
    "ax[1].set_xlabel('Число объектов для сплита', fontsize=16)\n",
    "ax[1].set_ylabel('Accuracy', fontsize=14)\n",
    "ax[1].plot(min_samples_list, sample_score_list)"
   ]
  },
  {
   "cell_type": "markdown",
   "metadata": {},
   "source": [
    "## Находим самые важные признаки (2 балла)\n",
    "\n"
   ]
  },
  {
   "cell_type": "markdown",
   "metadata": {},
   "source": [
    "По построенному дереву  легко понять, какие признаки лучше всего помогли решить задачу. Часто это бывает нужно  не только  для сокращения размерности в данных, но и для лучшего понимания прикладной задачи. Например, Вы хотите понять, какие признаки стоит еще конструировать -- для этого нужно понимать, какие из текущих лучше всего работают в дереве. "
   ]
  },
  {
   "cell_type": "markdown",
   "metadata": {},
   "source": [
    "Самый простой метод -- посчитать число сплитов, где использовался данные признак. Это не лучший вариант, так как по признаку который принимает всего 2 значения, но который почти точно разделяет выборку, число сплитов будет очень 1, но при этом признак сам очень хороший. \n",
    "В этом задании предлагается для каждого признака считать суммарный gain (в лекции обозначено как Q) при использовании этого признака в сплите. Тогда даже у очень хороших признаков с маленьким число сплитов это значение должно быть довольно высоким.  "
   ]
  },
  {
   "cell_type": "markdown",
   "metadata": {},
   "source": [
    "Реализовать это довольно просто: создаете словарь номер фичи : суммарный гейн и добавляете в нужную фичу каждый раз, когда используете ее при построении дерева. "
   ]
  },
  {
   "cell_type": "markdown",
   "metadata": {},
   "source": [
    "Добавьте функционал, который определяет значения feature importance. Обучите дерево на датасете Speed Dating Data.\n",
    "Выведите 10 главных фичей по важности."
   ]
  },
  {
   "cell_type": "code",
   "execution_count": 199,
   "metadata": {},
   "outputs": [],
   "source": [
    "my_clf = MyDecisionTreeClassifier(criterion=best_model['criterion'], \n",
    "                                  min_samples_split=best_model['sample'], \n",
    "                                  max_depth=best_model['depth'])\n",
    "my_clf.fit(X_train, y_train)\n",
    "important = feature_names[np.argsort(my_clf.get_feature_importance())[-10:]]"
   ]
  },
  {
   "cell_type": "code",
   "execution_count": 200,
   "metadata": {},
   "outputs": [
    {
     "data": {
      "text/plain": [
       "Index(['zipcode', 'date', 'race', 'imprace', 'amb2_1', 'intel3_1', 'imprelig',\n",
       "       'samerace', 'field_cd', 'int_corr'],\n",
       "      dtype='object')"
      ]
     },
     "execution_count": 200,
     "metadata": {},
     "output_type": "execute_result"
    }
   ],
   "source": [
    "important"
   ]
  },
  {
   "cell_type": "markdown",
   "metadata": {},
   "source": [
    "## Фидбек (бесценно)"
   ]
  },
  {
   "cell_type": "markdown",
   "metadata": {},
   "source": [
    "* Какие аспекты обучения деревьев решений Вам показались непонятными? Какое место стоит дополнительно объяснить?"
   ]
  },
  {
   "cell_type": "markdown",
   "metadata": {},
   "source": [
    "### Ваш ответ здесь"
   ]
  },
  {
   "cell_type": "markdown",
   "metadata": {},
   "source": [
    "* Здесь Вы можете оставить отзыв о этой домашней работе или о всем курсе."
   ]
  },
  {
   "cell_type": "markdown",
   "metadata": {},
   "source": [
    "### ВАШ ОТЗЫВ ЗДЕСЬ\n",
    "\n"
   ]
  },
  {
   "cell_type": "code",
   "execution_count": null,
   "metadata": {
    "collapsed": true
   },
   "outputs": [],
   "source": []
  },
  {
   "cell_type": "code",
   "execution_count": null,
   "metadata": {
    "collapsed": true
   },
   "outputs": [],
   "source": []
  }
 ],
 "metadata": {
  "anaconda-cloud": {},
  "kernelspec": {
   "display_name": "Python 3",
   "language": "python",
   "name": "python3"
  },
  "language_info": {
   "codemirror_mode": {
    "name": "ipython",
    "version": 3
   },
   "file_extension": ".py",
   "mimetype": "text/x-python",
   "name": "python",
   "nbconvert_exporter": "python",
   "pygments_lexer": "ipython3",
   "version": "3.7.4"
  }
 },
 "nbformat": 4,
 "nbformat_minor": 2
}
